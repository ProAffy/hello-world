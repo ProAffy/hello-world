{
  "nbformat": 4,
  "nbformat_minor": 0,
  "metadata": {
    "colab": {
      "provenance": [],
      "gpuType": "A100",
      "machine_shape": "hm",
      "mount_file_id": "1mEPPO6_H9f5YS0MYYsnZ9OJGU8gxMCkF",
      "authorship_tag": "ABX9TyNWVSLx6DYkBs+rReR0qNtT",
      "include_colab_link": true
    },
    "kernelspec": {
      "name": "python3",
      "display_name": "Python 3"
    },
    "language_info": {
      "name": "python"
    },
    "accelerator": "GPU",
    "gpuClass": "standard"
  },
  "cells": [
    {
      "cell_type": "markdown",
      "metadata": {
        "id": "view-in-github",
        "colab_type": "text"
      },
      "source": [
        "<a href=\"https://colab.research.google.com/github/ProAffy/hello-world/blob/master/IS_733_Project.ipynb\" target=\"_parent\"><img src=\"https://colab.research.google.com/assets/colab-badge.svg\" alt=\"Open In Colab\"/></a>"
      ]
    },
    {
      "cell_type": "markdown",
      "source": [
        "# Import Libraries"
      ],
      "metadata": {
        "id": "jkllIZ2IBF5m"
      }
    },
    {
      "cell_type": "code",
      "execution_count": 1,
      "metadata": {
        "id": "dCIP5ytX6_9V"
      },
      "outputs": [],
      "source": [
        "import numpy as np\n",
        "import pandas as pd\n",
        "from google.colab import files\n",
        "from sklearn.model_selection import train_test_split\n",
        "import matplotlib.pyplot as plt"
      ]
    },
    {
      "cell_type": "code",
      "source": [
        "# read csv file\n",
        "# df = pd.read_csv('/content/properties_2017.csv')\n",
        "df = pd.read_csv('/content/drive/MyDrive/properties_2017.csv')\n",
        "print(df)\n",
        "df.head()"
      ],
      "metadata": {
        "id": "zXiP-SnG7PHw",
        "colab": {
          "base_uri": "https://localhost:8080/",
          "height": 1000
        },
        "outputId": "f1fe3679-f6ab-4a63-fd71-5e715ed2cee1"
      },
      "execution_count": 2,
      "outputs": [
        {
          "output_type": "stream",
          "name": "stderr",
          "text": [
            "<ipython-input-2-1abd739b9841>:3: DtypeWarning: Columns (49) have mixed types. Specify dtype option on import or set low_memory=False.\n",
            "  df = pd.read_csv('/content/drive/MyDrive/properties_2017.csv')\n"
          ]
        },
        {
          "output_type": "stream",
          "name": "stdout",
          "text": [
            "         parcelid  airconditioningtypeid  architecturalstyletypeid  \\\n",
            "0        10754147                    NaN                       NaN   \n",
            "1        10759547                    NaN                       NaN   \n",
            "2        10843547                    NaN                       NaN   \n",
            "3        10859147                    NaN                       NaN   \n",
            "4        10879947                    NaN                       NaN   \n",
            "...           ...                    ...                       ...   \n",
            "2985212  12170430                    NaN                       NaN   \n",
            "2985213  11422430                    NaN                       NaN   \n",
            "2985214  17203030                    NaN                       NaN   \n",
            "2985215  14242830                    NaN                       NaN   \n",
            "2985216  12766630                    NaN                       NaN   \n",
            "\n",
            "         basementsqft  bathroomcnt  bedroomcnt  buildingclasstypeid  \\\n",
            "0                 NaN          0.0         0.0                  NaN   \n",
            "1                 NaN          0.0         0.0                  NaN   \n",
            "2                 NaN          0.0         0.0                  5.0   \n",
            "3                 NaN          0.0         0.0                  3.0   \n",
            "4                 NaN          0.0         0.0                  4.0   \n",
            "...               ...          ...         ...                  ...   \n",
            "2985212           NaN          NaN         NaN                  NaN   \n",
            "2985213           NaN          NaN         NaN                  NaN   \n",
            "2985214           NaN          NaN         NaN                  NaN   \n",
            "2985215           NaN          NaN         NaN                  NaN   \n",
            "2985216           NaN          NaN         NaN                  NaN   \n",
            "\n",
            "         buildingqualitytypeid  calculatedbathnbr  decktypeid  ...  \\\n",
            "0                          NaN                NaN         NaN  ...   \n",
            "1                          NaN                NaN         NaN  ...   \n",
            "2                          NaN                NaN         NaN  ...   \n",
            "3                          6.0                NaN         NaN  ...   \n",
            "4                          NaN                NaN         NaN  ...   \n",
            "...                        ...                ...         ...  ...   \n",
            "2985212                    NaN                NaN         NaN  ...   \n",
            "2985213                    NaN                NaN         NaN  ...   \n",
            "2985214                    NaN                NaN         NaN  ...   \n",
            "2985215                    NaN                NaN         NaN  ...   \n",
            "2985216                    NaN                NaN         NaN  ...   \n",
            "\n",
            "         numberofstories  fireplaceflag  structuretaxvaluedollarcnt  \\\n",
            "0                    NaN            NaN                         NaN   \n",
            "1                    NaN            NaN                         NaN   \n",
            "2                    1.0            NaN                    660680.0   \n",
            "3                    1.0            NaN                    580059.0   \n",
            "4                    1.0            NaN                    196751.0   \n",
            "...                  ...            ...                         ...   \n",
            "2985212              NaN            NaN                         NaN   \n",
            "2985213              NaN            NaN                         NaN   \n",
            "2985214              NaN            NaN                         NaN   \n",
            "2985215              NaN            NaN                         NaN   \n",
            "2985216              NaN            NaN                         NaN   \n",
            "\n",
            "         taxvaluedollarcnt  assessmentyear  landtaxvaluedollarcnt  taxamount  \\\n",
            "0                      9.0          2016.0                    9.0        NaN   \n",
            "1                  27516.0          2015.0                27516.0        NaN   \n",
            "2                1434941.0          2016.0               774261.0   20800.37   \n",
            "3                1174475.0          2016.0               594416.0   14557.57   \n",
            "4                 440101.0          2016.0               243350.0    5725.17   \n",
            "...                    ...             ...                    ...        ...   \n",
            "2985212                NaN             NaN                    NaN        NaN   \n",
            "2985213                NaN             NaN                    NaN        NaN   \n",
            "2985214                NaN             NaN                    NaN        NaN   \n",
            "2985215                NaN             NaN                    NaN        NaN   \n",
            "2985216                NaN             NaN                    NaN        NaN   \n",
            "\n",
            "         taxdelinquencyflag  taxdelinquencyyear  censustractandblock  \n",
            "0                       NaN                 NaN                  NaN  \n",
            "1                       NaN                 NaN                  NaN  \n",
            "2                       NaN                 NaN                  NaN  \n",
            "3                       NaN                 NaN                  NaN  \n",
            "4                       NaN                 NaN                  NaN  \n",
            "...                     ...                 ...                  ...  \n",
            "2985212                 NaN                 NaN                  NaN  \n",
            "2985213                 NaN                 NaN                  NaN  \n",
            "2985214                 NaN                 NaN                  NaN  \n",
            "2985215                 NaN                 NaN                  NaN  \n",
            "2985216                 NaN                 NaN                  NaN  \n",
            "\n",
            "[2985217 rows x 58 columns]\n"
          ]
        },
        {
          "output_type": "execute_result",
          "data": {
            "text/plain": [
              "   parcelid  airconditioningtypeid  architecturalstyletypeid  basementsqft  \\\n",
              "0  10754147                    NaN                       NaN           NaN   \n",
              "1  10759547                    NaN                       NaN           NaN   \n",
              "2  10843547                    NaN                       NaN           NaN   \n",
              "3  10859147                    NaN                       NaN           NaN   \n",
              "4  10879947                    NaN                       NaN           NaN   \n",
              "\n",
              "   bathroomcnt  bedroomcnt  buildingclasstypeid  buildingqualitytypeid  \\\n",
              "0          0.0         0.0                  NaN                    NaN   \n",
              "1          0.0         0.0                  NaN                    NaN   \n",
              "2          0.0         0.0                  5.0                    NaN   \n",
              "3          0.0         0.0                  3.0                    6.0   \n",
              "4          0.0         0.0                  4.0                    NaN   \n",
              "\n",
              "   calculatedbathnbr  decktypeid  ...  numberofstories  fireplaceflag  \\\n",
              "0                NaN         NaN  ...              NaN            NaN   \n",
              "1                NaN         NaN  ...              NaN            NaN   \n",
              "2                NaN         NaN  ...              1.0            NaN   \n",
              "3                NaN         NaN  ...              1.0            NaN   \n",
              "4                NaN         NaN  ...              1.0            NaN   \n",
              "\n",
              "   structuretaxvaluedollarcnt  taxvaluedollarcnt  assessmentyear  \\\n",
              "0                         NaN                9.0          2016.0   \n",
              "1                         NaN            27516.0          2015.0   \n",
              "2                    660680.0          1434941.0          2016.0   \n",
              "3                    580059.0          1174475.0          2016.0   \n",
              "4                    196751.0           440101.0          2016.0   \n",
              "\n",
              "   landtaxvaluedollarcnt  taxamount  taxdelinquencyflag  taxdelinquencyyear  \\\n",
              "0                    9.0        NaN                 NaN                 NaN   \n",
              "1                27516.0        NaN                 NaN                 NaN   \n",
              "2               774261.0   20800.37                 NaN                 NaN   \n",
              "3               594416.0   14557.57                 NaN                 NaN   \n",
              "4               243350.0    5725.17                 NaN                 NaN   \n",
              "\n",
              "   censustractandblock  \n",
              "0                  NaN  \n",
              "1                  NaN  \n",
              "2                  NaN  \n",
              "3                  NaN  \n",
              "4                  NaN  \n",
              "\n",
              "[5 rows x 58 columns]"
            ],
            "text/html": [
              "\n",
              "  <div id=\"df-7ad64f08-efb1-45c4-bb85-54c402e23595\">\n",
              "    <div class=\"colab-df-container\">\n",
              "      <div>\n",
              "<style scoped>\n",
              "    .dataframe tbody tr th:only-of-type {\n",
              "        vertical-align: middle;\n",
              "    }\n",
              "\n",
              "    .dataframe tbody tr th {\n",
              "        vertical-align: top;\n",
              "    }\n",
              "\n",
              "    .dataframe thead th {\n",
              "        text-align: right;\n",
              "    }\n",
              "</style>\n",
              "<table border=\"1\" class=\"dataframe\">\n",
              "  <thead>\n",
              "    <tr style=\"text-align: right;\">\n",
              "      <th></th>\n",
              "      <th>parcelid</th>\n",
              "      <th>airconditioningtypeid</th>\n",
              "      <th>architecturalstyletypeid</th>\n",
              "      <th>basementsqft</th>\n",
              "      <th>bathroomcnt</th>\n",
              "      <th>bedroomcnt</th>\n",
              "      <th>buildingclasstypeid</th>\n",
              "      <th>buildingqualitytypeid</th>\n",
              "      <th>calculatedbathnbr</th>\n",
              "      <th>decktypeid</th>\n",
              "      <th>...</th>\n",
              "      <th>numberofstories</th>\n",
              "      <th>fireplaceflag</th>\n",
              "      <th>structuretaxvaluedollarcnt</th>\n",
              "      <th>taxvaluedollarcnt</th>\n",
              "      <th>assessmentyear</th>\n",
              "      <th>landtaxvaluedollarcnt</th>\n",
              "      <th>taxamount</th>\n",
              "      <th>taxdelinquencyflag</th>\n",
              "      <th>taxdelinquencyyear</th>\n",
              "      <th>censustractandblock</th>\n",
              "    </tr>\n",
              "  </thead>\n",
              "  <tbody>\n",
              "    <tr>\n",
              "      <th>0</th>\n",
              "      <td>10754147</td>\n",
              "      <td>NaN</td>\n",
              "      <td>NaN</td>\n",
              "      <td>NaN</td>\n",
              "      <td>0.0</td>\n",
              "      <td>0.0</td>\n",
              "      <td>NaN</td>\n",
              "      <td>NaN</td>\n",
              "      <td>NaN</td>\n",
              "      <td>NaN</td>\n",
              "      <td>...</td>\n",
              "      <td>NaN</td>\n",
              "      <td>NaN</td>\n",
              "      <td>NaN</td>\n",
              "      <td>9.0</td>\n",
              "      <td>2016.0</td>\n",
              "      <td>9.0</td>\n",
              "      <td>NaN</td>\n",
              "      <td>NaN</td>\n",
              "      <td>NaN</td>\n",
              "      <td>NaN</td>\n",
              "    </tr>\n",
              "    <tr>\n",
              "      <th>1</th>\n",
              "      <td>10759547</td>\n",
              "      <td>NaN</td>\n",
              "      <td>NaN</td>\n",
              "      <td>NaN</td>\n",
              "      <td>0.0</td>\n",
              "      <td>0.0</td>\n",
              "      <td>NaN</td>\n",
              "      <td>NaN</td>\n",
              "      <td>NaN</td>\n",
              "      <td>NaN</td>\n",
              "      <td>...</td>\n",
              "      <td>NaN</td>\n",
              "      <td>NaN</td>\n",
              "      <td>NaN</td>\n",
              "      <td>27516.0</td>\n",
              "      <td>2015.0</td>\n",
              "      <td>27516.0</td>\n",
              "      <td>NaN</td>\n",
              "      <td>NaN</td>\n",
              "      <td>NaN</td>\n",
              "      <td>NaN</td>\n",
              "    </tr>\n",
              "    <tr>\n",
              "      <th>2</th>\n",
              "      <td>10843547</td>\n",
              "      <td>NaN</td>\n",
              "      <td>NaN</td>\n",
              "      <td>NaN</td>\n",
              "      <td>0.0</td>\n",
              "      <td>0.0</td>\n",
              "      <td>5.0</td>\n",
              "      <td>NaN</td>\n",
              "      <td>NaN</td>\n",
              "      <td>NaN</td>\n",
              "      <td>...</td>\n",
              "      <td>1.0</td>\n",
              "      <td>NaN</td>\n",
              "      <td>660680.0</td>\n",
              "      <td>1434941.0</td>\n",
              "      <td>2016.0</td>\n",
              "      <td>774261.0</td>\n",
              "      <td>20800.37</td>\n",
              "      <td>NaN</td>\n",
              "      <td>NaN</td>\n",
              "      <td>NaN</td>\n",
              "    </tr>\n",
              "    <tr>\n",
              "      <th>3</th>\n",
              "      <td>10859147</td>\n",
              "      <td>NaN</td>\n",
              "      <td>NaN</td>\n",
              "      <td>NaN</td>\n",
              "      <td>0.0</td>\n",
              "      <td>0.0</td>\n",
              "      <td>3.0</td>\n",
              "      <td>6.0</td>\n",
              "      <td>NaN</td>\n",
              "      <td>NaN</td>\n",
              "      <td>...</td>\n",
              "      <td>1.0</td>\n",
              "      <td>NaN</td>\n",
              "      <td>580059.0</td>\n",
              "      <td>1174475.0</td>\n",
              "      <td>2016.0</td>\n",
              "      <td>594416.0</td>\n",
              "      <td>14557.57</td>\n",
              "      <td>NaN</td>\n",
              "      <td>NaN</td>\n",
              "      <td>NaN</td>\n",
              "    </tr>\n",
              "    <tr>\n",
              "      <th>4</th>\n",
              "      <td>10879947</td>\n",
              "      <td>NaN</td>\n",
              "      <td>NaN</td>\n",
              "      <td>NaN</td>\n",
              "      <td>0.0</td>\n",
              "      <td>0.0</td>\n",
              "      <td>4.0</td>\n",
              "      <td>NaN</td>\n",
              "      <td>NaN</td>\n",
              "      <td>NaN</td>\n",
              "      <td>...</td>\n",
              "      <td>1.0</td>\n",
              "      <td>NaN</td>\n",
              "      <td>196751.0</td>\n",
              "      <td>440101.0</td>\n",
              "      <td>2016.0</td>\n",
              "      <td>243350.0</td>\n",
              "      <td>5725.17</td>\n",
              "      <td>NaN</td>\n",
              "      <td>NaN</td>\n",
              "      <td>NaN</td>\n",
              "    </tr>\n",
              "  </tbody>\n",
              "</table>\n",
              "<p>5 rows × 58 columns</p>\n",
              "</div>\n",
              "      <button class=\"colab-df-convert\" onclick=\"convertToInteractive('df-7ad64f08-efb1-45c4-bb85-54c402e23595')\"\n",
              "              title=\"Convert this dataframe to an interactive table.\"\n",
              "              style=\"display:none;\">\n",
              "        \n",
              "  <svg xmlns=\"http://www.w3.org/2000/svg\" height=\"24px\"viewBox=\"0 0 24 24\"\n",
              "       width=\"24px\">\n",
              "    <path d=\"M0 0h24v24H0V0z\" fill=\"none\"/>\n",
              "    <path d=\"M18.56 5.44l.94 2.06.94-2.06 2.06-.94-2.06-.94-.94-2.06-.94 2.06-2.06.94zm-11 1L8.5 8.5l.94-2.06 2.06-.94-2.06-.94L8.5 2.5l-.94 2.06-2.06.94zm10 10l.94 2.06.94-2.06 2.06-.94-2.06-.94-.94-2.06-.94 2.06-2.06.94z\"/><path d=\"M17.41 7.96l-1.37-1.37c-.4-.4-.92-.59-1.43-.59-.52 0-1.04.2-1.43.59L10.3 9.45l-7.72 7.72c-.78.78-.78 2.05 0 2.83L4 21.41c.39.39.9.59 1.41.59.51 0 1.02-.2 1.41-.59l7.78-7.78 2.81-2.81c.8-.78.8-2.07 0-2.86zM5.41 20L4 18.59l7.72-7.72 1.47 1.35L5.41 20z\"/>\n",
              "  </svg>\n",
              "      </button>\n",
              "      \n",
              "  <style>\n",
              "    .colab-df-container {\n",
              "      display:flex;\n",
              "      flex-wrap:wrap;\n",
              "      gap: 12px;\n",
              "    }\n",
              "\n",
              "    .colab-df-convert {\n",
              "      background-color: #E8F0FE;\n",
              "      border: none;\n",
              "      border-radius: 50%;\n",
              "      cursor: pointer;\n",
              "      display: none;\n",
              "      fill: #1967D2;\n",
              "      height: 32px;\n",
              "      padding: 0 0 0 0;\n",
              "      width: 32px;\n",
              "    }\n",
              "\n",
              "    .colab-df-convert:hover {\n",
              "      background-color: #E2EBFA;\n",
              "      box-shadow: 0px 1px 2px rgba(60, 64, 67, 0.3), 0px 1px 3px 1px rgba(60, 64, 67, 0.15);\n",
              "      fill: #174EA6;\n",
              "    }\n",
              "\n",
              "    [theme=dark] .colab-df-convert {\n",
              "      background-color: #3B4455;\n",
              "      fill: #D2E3FC;\n",
              "    }\n",
              "\n",
              "    [theme=dark] .colab-df-convert:hover {\n",
              "      background-color: #434B5C;\n",
              "      box-shadow: 0px 1px 3px 1px rgba(0, 0, 0, 0.15);\n",
              "      filter: drop-shadow(0px 1px 2px rgba(0, 0, 0, 0.3));\n",
              "      fill: #FFFFFF;\n",
              "    }\n",
              "  </style>\n",
              "\n",
              "      <script>\n",
              "        const buttonEl =\n",
              "          document.querySelector('#df-7ad64f08-efb1-45c4-bb85-54c402e23595 button.colab-df-convert');\n",
              "        buttonEl.style.display =\n",
              "          google.colab.kernel.accessAllowed ? 'block' : 'none';\n",
              "\n",
              "        async function convertToInteractive(key) {\n",
              "          const element = document.querySelector('#df-7ad64f08-efb1-45c4-bb85-54c402e23595');\n",
              "          const dataTable =\n",
              "            await google.colab.kernel.invokeFunction('convertToInteractive',\n",
              "                                                     [key], {});\n",
              "          if (!dataTable) return;\n",
              "\n",
              "          const docLinkHtml = 'Like what you see? Visit the ' +\n",
              "            '<a target=\"_blank\" href=https://colab.research.google.com/notebooks/data_table.ipynb>data table notebook</a>'\n",
              "            + ' to learn more about interactive tables.';\n",
              "          element.innerHTML = '';\n",
              "          dataTable['output_type'] = 'display_data';\n",
              "          await google.colab.output.renderOutput(dataTable, element);\n",
              "          const docLink = document.createElement('div');\n",
              "          docLink.innerHTML = docLinkHtml;\n",
              "          element.appendChild(docLink);\n",
              "        }\n",
              "      </script>\n",
              "    </div>\n",
              "  </div>\n",
              "  "
            ]
          },
          "metadata": {},
          "execution_count": 2
        }
      ]
    },
    {
      "cell_type": "markdown",
      "source": [
        "# Preprocessing"
      ],
      "metadata": {
        "id": "WsF4ihyJA_ka"
      }
    },
    {
      "cell_type": "code",
      "source": [
        "# Reordered data with sybmoblic data first and real valued after\n",
        "df = df[['parcelid', 'airconditioningtypeid', 'architecturalstyletypeid', 'buildingclasstypeid', 'buildingqualitytypeid', \n",
        "         'decktypeid', 'fips', 'hashottuborspa', 'heatingorsystemtypeid', 'heatingorsystemtypeid', 'pooltypeid2', \n",
        "         'pooltypeid7', 'propertycountylandusecode', 'propertylandusetypeid', 'propertyzoningdesc', 'rawcensustractandblock', \n",
        "         'regionidcity', 'regionidcounty', 'regionidneighborhood', 'regionidzip', 'storytypeid', 'typeconstructiontypeid', \n",
        "         'yearbuilt', 'fireplaceflag', 'assessmentyear', 'taxdelinquencyflag', 'taxdelinquencyyear', 'censustractandblock', \n",
        "         'basementsqft', 'bathroomcnt', 'bedroomcnt', 'calculatedbathnbr', 'finishedfloor1squarefeet', 'calculatedfinishedsquarefeet', \n",
        "         'finishedsquarefeet12', 'finishedsquarefeet13', 'finishedsquarefeet15', 'finishedsquarefeet50', 'finishedsquarefeet6', \n",
        "         'fireplacecnt', 'fullbathcnt', 'garagecarcnt', 'garagetotalsqft', 'latitude', 'longitude', 'lotsizesquarefeet', \n",
        "         'poolcnt', 'poolsizesum', 'roomcnt', 'threequarterbathnbr', 'unitcnt', 'yardbuildingsqft17', 'yardbuildingsqft26', \n",
        "         'numberofstories', 'structuretaxvaluedollarcnt', 'taxvaluedollarcnt', 'landtaxvaluedollarcnt', 'taxamount']] "
      ],
      "metadata": {
        "id": "gnvAU9ffj__N"
      },
      "execution_count": 3,
      "outputs": []
    },
    {
      "cell_type": "code",
      "source": [
        "# Check size of dataset before dropping rows and columns\n",
        "df.shape"
      ],
      "metadata": {
        "colab": {
          "base_uri": "https://localhost:8080/"
        },
        "id": "AzPOdRCLNy_9",
        "outputId": "a626f1de-1a22-4374-82cb-2f7780853dfd"
      },
      "execution_count": 4,
      "outputs": [
        {
          "output_type": "execute_result",
          "data": {
            "text/plain": [
              "(2985217, 58)"
            ]
          },
          "metadata": {},
          "execution_count": 4
        }
      ]
    },
    {
      "cell_type": "code",
      "source": [
        "# Calculate the percentage of missing values in each column\n",
        "missing_percentages = df.isna().sum() / len(df)\n",
        "\n",
        "# Drop columns with more than 80% missing values\n",
        "columns_to_drop = missing_percentages[missing_percentages > 0.8].index\n",
        "df.drop(columns_to_drop, axis=1, inplace=True)\n",
        "\n",
        "# Check size of dataset after dropping columns\n",
        "df.shape"
      ],
      "metadata": {
        "colab": {
          "base_uri": "https://localhost:8080/"
        },
        "id": "NISkmINTOFcA",
        "outputId": "7af64edb-d050-4282-e671-ce38661822ae"
      },
      "execution_count": 5,
      "outputs": [
        {
          "output_type": "execute_result",
          "data": {
            "text/plain": [
              "(2985217, 35)"
            ]
          },
          "metadata": {},
          "execution_count": 5
        }
      ]
    },
    {
      "cell_type": "code",
      "source": [
        "# Calculate the percentage of missing values in each row\n",
        "missing_percentages = df.isna().sum(axis=1) / len(df.columns)\n",
        "\n",
        "# Drop rows with 50% missing values\n",
        "rows_to_drop = missing_percentages[missing_percentages > 0.5].index\n",
        "df.drop(rows_to_drop, axis=0, inplace=True)\n",
        "\n",
        "# Check size of dataset after dropping rows\n",
        "df.shape"
      ],
      "metadata": {
        "colab": {
          "base_uri": "https://localhost:8080/"
        },
        "id": "9f5XaEjQPbVw",
        "outputId": "42f2f924-23eb-410c-a8e3-47eae1da3922"
      },
      "execution_count": 6,
      "outputs": [
        {
          "output_type": "execute_result",
          "data": {
            "text/plain": [
              "(2966743, 35)"
            ]
          },
          "metadata": {},
          "execution_count": 6
        }
      ]
    },
    {
      "cell_type": "code",
      "source": [
        "# Remove all duplicate records\n",
        "df.drop_duplicates(inplace=True)\n",
        "\n",
        "# Check size of dataset after dropping rows\n",
        "df.shape"
      ],
      "metadata": {
        "colab": {
          "base_uri": "https://localhost:8080/"
        },
        "id": "FQaarLiJPhma",
        "outputId": "b30d54bd-481d-40d9-9e4d-db59e4239bc1"
      },
      "execution_count": 7,
      "outputs": [
        {
          "output_type": "execute_result",
          "data": {
            "text/plain": [
              "(2966743, 35)"
            ]
          },
          "metadata": {},
          "execution_count": 7
        }
      ]
    },
    {
      "cell_type": "code",
      "source": [
        "# drop rows with a bedroom count under 1 in column 'A'\n",
        "df = df.loc[df['bedroomcnt'] >= 1]\n",
        "\n",
        "# Check size of dataset after dropping rows\n",
        "df.shape"
      ],
      "metadata": {
        "colab": {
          "base_uri": "https://localhost:8080/"
        },
        "id": "ncMGJ3qVT8mo",
        "outputId": "43a7af12-5a29-43f7-e688-4a8b3cb23c7e"
      },
      "execution_count": 8,
      "outputs": [
        {
          "output_type": "execute_result",
          "data": {
            "text/plain": [
              "(2863565, 35)"
            ]
          },
          "metadata": {},
          "execution_count": 8
        }
      ]
    },
    {
      "cell_type": "code",
      "source": [
        "# drop rows with bathroom count under 1 in column 'A'\n",
        "df = df.loc[df['bathroomcnt'] >= 1]\n",
        "\n",
        "# Check size of dataset after dropping rows\n",
        "df.shape"
      ],
      "metadata": {
        "colab": {
          "base_uri": "https://localhost:8080/"
        },
        "id": "GThydg6tUGy2",
        "outputId": "eb1f27ca-f1a5-43bc-f11c-3ef30057f7f6"
      },
      "execution_count": 9,
      "outputs": [
        {
          "output_type": "execute_result",
          "data": {
            "text/plain": [
              "(2862451, 35)"
            ]
          },
          "metadata": {},
          "execution_count": 9
        }
      ]
    },
    {
      "cell_type": "code",
      "source": [
        "# The dataset is too large still so we willbe sampling\n",
        "# Sample 250000 rows randomly from the dataset\n",
        "# Requires a lot of RAM, also done with 100000\n",
        "sample_df = df.sample(n=250000, random_state=42)"
      ],
      "metadata": {
        "id": "DCW3W3jrG9o_"
      },
      "execution_count": 10,
      "outputs": []
    },
    {
      "cell_type": "code",
      "source": [
        "# see where the real value data and symbolic data splits\n",
        "sample_df.columns"
      ],
      "metadata": {
        "colab": {
          "base_uri": "https://localhost:8080/"
        },
        "id": "TMsTCNlHs1ay",
        "outputId": "a10dafcd-499f-4e08-b551-163f80c2dcf7"
      },
      "execution_count": 11,
      "outputs": [
        {
          "output_type": "execute_result",
          "data": {
            "text/plain": [
              "Index(['parcelid', 'airconditioningtypeid', 'buildingqualitytypeid', 'fips',\n",
              "       'heatingorsystemtypeid', 'heatingorsystemtypeid',\n",
              "       'propertycountylandusecode', 'propertylandusetypeid',\n",
              "       'propertyzoningdesc', 'rawcensustractandblock', 'regionidcity',\n",
              "       'regionidcounty', 'regionidneighborhood', 'regionidzip', 'yearbuilt',\n",
              "       'assessmentyear', 'censustractandblock', 'bathroomcnt', 'bedroomcnt',\n",
              "       'calculatedbathnbr', 'calculatedfinishedsquarefeet',\n",
              "       'finishedsquarefeet12', 'fullbathcnt', 'garagecarcnt',\n",
              "       'garagetotalsqft', 'latitude', 'longitude', 'lotsizesquarefeet',\n",
              "       'roomcnt', 'unitcnt', 'numberofstories', 'structuretaxvaluedollarcnt',\n",
              "       'taxvaluedollarcnt', 'landtaxvaluedollarcnt', 'taxamount'],\n",
              "      dtype='object')"
            ]
          },
          "metadata": {},
          "execution_count": 11
        }
      ]
    },
    {
      "cell_type": "code",
      "source": [
        "# Separate the symbolic and real-valued features\n",
        "symbolic_features = sample_df.iloc[:, :17]\n",
        "real_features = sample_df.iloc[:, 17:]"
      ],
      "metadata": {
        "id": "IDlAvQXmpvsI"
      },
      "execution_count": 12,
      "outputs": []
    },
    {
      "cell_type": "code",
      "source": [
        "from sklearn.decomposition import PCA\n",
        "\n",
        "# Fill in missing values with the mean of the column\n",
        "real_features.fillna(real_features.mean(), inplace=True)\n",
        "\n",
        "# Perform PCA on the real-valued features\n",
        "pca = PCA(n_components=10)\n",
        "reduced_data = pca.fit_transform(real_features)"
      ],
      "metadata": {
        "id": "Wzy19sKEiwBM"
      },
      "execution_count": 13,
      "outputs": []
    },
    {
      "cell_type": "code",
      "source": [
        "# Perform one-hot encoding on the symbolic features\n",
        "symbolic_features_encoded = pd.get_dummies(symbolic_features)\n",
        "\n",
        "# Fill in missing values with the mean of the column\n",
        "symbolic_features_encoded.fillna(symbolic_features_encoded.mean(), inplace=True)"
      ],
      "metadata": {
        "id": "Is-f2TpxqwMr"
      },
      "execution_count": 14,
      "outputs": []
    },
    {
      "cell_type": "code",
      "source": [
        "# Concatenate the real-valued features and symbolic features\n",
        "new_df = pd.concat([symbolic_features_encoded, pd.DataFrame(reduced_data)], axis=1)\n",
        "\n",
        "# Fill in missing values with the mean of the column\n",
        "new_df.fillna(new_df.mean(), inplace=True)"
      ],
      "metadata": {
        "id": "jEQjHcFT90N8"
      },
      "execution_count": 15,
      "outputs": []
    },
    {
      "cell_type": "markdown",
      "source": [
        "# Model Development"
      ],
      "metadata": {
        "id": "EcyVapQBLBtB"
      }
    },
    {
      "cell_type": "code",
      "source": [
        "# Define input and output variables\n",
        "X = new_df.iloc[:, :-1].values\n",
        "y = new_df.iloc[:, -1].values\n",
        "\n",
        "# Split dataset into training and test sets with a 70/30 split randomly\n",
        "X_train, X_test, y_train, y_test = train_test_split(X, y, test_size=0.3, random_state=42)"
      ],
      "metadata": {
        "id": "TaVzhb1jI0KV"
      },
      "execution_count": 16,
      "outputs": []
    },
    {
      "cell_type": "code",
      "source": [
        "from sklearn.preprocessing import StandardScaler\n",
        "\n",
        "# Scale the data\n",
        "scaler = StandardScaler()\n",
        "X_train = scaler.fit_transform(X_train)\n",
        "X_test = scaler.transform(X_test)"
      ],
      "metadata": {
        "id": "_ove6IuZD11F"
      },
      "execution_count": 17,
      "outputs": []
    },
    {
      "cell_type": "markdown",
      "source": [
        "# Models"
      ],
      "metadata": {
        "id": "etASHA89OIS2"
      }
    },
    {
      "cell_type": "code",
      "source": [
        "from sklearn.linear_model import LinearRegression\n",
        "from sklearn.tree import DecisionTreeRegressor\n",
        "from sklearn.ensemble import RandomForestRegressor\n",
        "from sklearn.metrics import mean_squared_error"
      ],
      "metadata": {
        "id": "9Pkw41HhDH_8"
      },
      "execution_count": 18,
      "outputs": []
    },
    {
      "cell_type": "markdown",
      "source": [
        "Linear Regression"
      ],
      "metadata": {
        "id": "9InIztkyCz5j"
      }
    },
    {
      "cell_type": "code",
      "source": [
        "# Create a linear regression object\n",
        "reg = LinearRegression()\n",
        "\n",
        "# Fit the model\n",
        "reg.fit(X_train, y_train)"
      ],
      "metadata": {
        "colab": {
          "base_uri": "https://localhost:8080/",
          "height": 74
        },
        "id": "nR_QfdNzDarq",
        "outputId": "3bc76225-59e6-421e-a8be-f8e3d6537898"
      },
      "execution_count": 19,
      "outputs": [
        {
          "output_type": "execute_result",
          "data": {
            "text/plain": [
              "LinearRegression()"
            ],
            "text/html": [
              "<style>#sk-container-id-1 {color: black;background-color: white;}#sk-container-id-1 pre{padding: 0;}#sk-container-id-1 div.sk-toggleable {background-color: white;}#sk-container-id-1 label.sk-toggleable__label {cursor: pointer;display: block;width: 100%;margin-bottom: 0;padding: 0.3em;box-sizing: border-box;text-align: center;}#sk-container-id-1 label.sk-toggleable__label-arrow:before {content: \"▸\";float: left;margin-right: 0.25em;color: #696969;}#sk-container-id-1 label.sk-toggleable__label-arrow:hover:before {color: black;}#sk-container-id-1 div.sk-estimator:hover label.sk-toggleable__label-arrow:before {color: black;}#sk-container-id-1 div.sk-toggleable__content {max-height: 0;max-width: 0;overflow: hidden;text-align: left;background-color: #f0f8ff;}#sk-container-id-1 div.sk-toggleable__content pre {margin: 0.2em;color: black;border-radius: 0.25em;background-color: #f0f8ff;}#sk-container-id-1 input.sk-toggleable__control:checked~div.sk-toggleable__content {max-height: 200px;max-width: 100%;overflow: auto;}#sk-container-id-1 input.sk-toggleable__control:checked~label.sk-toggleable__label-arrow:before {content: \"▾\";}#sk-container-id-1 div.sk-estimator input.sk-toggleable__control:checked~label.sk-toggleable__label {background-color: #d4ebff;}#sk-container-id-1 div.sk-label input.sk-toggleable__control:checked~label.sk-toggleable__label {background-color: #d4ebff;}#sk-container-id-1 input.sk-hidden--visually {border: 0;clip: rect(1px 1px 1px 1px);clip: rect(1px, 1px, 1px, 1px);height: 1px;margin: -1px;overflow: hidden;padding: 0;position: absolute;width: 1px;}#sk-container-id-1 div.sk-estimator {font-family: monospace;background-color: #f0f8ff;border: 1px dotted black;border-radius: 0.25em;box-sizing: border-box;margin-bottom: 0.5em;}#sk-container-id-1 div.sk-estimator:hover {background-color: #d4ebff;}#sk-container-id-1 div.sk-parallel-item::after {content: \"\";width: 100%;border-bottom: 1px solid gray;flex-grow: 1;}#sk-container-id-1 div.sk-label:hover label.sk-toggleable__label {background-color: #d4ebff;}#sk-container-id-1 div.sk-serial::before {content: \"\";position: absolute;border-left: 1px solid gray;box-sizing: border-box;top: 0;bottom: 0;left: 50%;z-index: 0;}#sk-container-id-1 div.sk-serial {display: flex;flex-direction: column;align-items: center;background-color: white;padding-right: 0.2em;padding-left: 0.2em;position: relative;}#sk-container-id-1 div.sk-item {position: relative;z-index: 1;}#sk-container-id-1 div.sk-parallel {display: flex;align-items: stretch;justify-content: center;background-color: white;position: relative;}#sk-container-id-1 div.sk-item::before, #sk-container-id-1 div.sk-parallel-item::before {content: \"\";position: absolute;border-left: 1px solid gray;box-sizing: border-box;top: 0;bottom: 0;left: 50%;z-index: -1;}#sk-container-id-1 div.sk-parallel-item {display: flex;flex-direction: column;z-index: 1;position: relative;background-color: white;}#sk-container-id-1 div.sk-parallel-item:first-child::after {align-self: flex-end;width: 50%;}#sk-container-id-1 div.sk-parallel-item:last-child::after {align-self: flex-start;width: 50%;}#sk-container-id-1 div.sk-parallel-item:only-child::after {width: 0;}#sk-container-id-1 div.sk-dashed-wrapped {border: 1px dashed gray;margin: 0 0.4em 0.5em 0.4em;box-sizing: border-box;padding-bottom: 0.4em;background-color: white;}#sk-container-id-1 div.sk-label label {font-family: monospace;font-weight: bold;display: inline-block;line-height: 1.2em;}#sk-container-id-1 div.sk-label-container {text-align: center;}#sk-container-id-1 div.sk-container {/* jupyter's `normalize.less` sets `[hidden] { display: none; }` but bootstrap.min.css set `[hidden] { display: none !important; }` so we also need the `!important` here to be able to override the default hidden behavior on the sphinx rendered scikit-learn.org. See: https://github.com/scikit-learn/scikit-learn/issues/21755 */display: inline-block !important;position: relative;}#sk-container-id-1 div.sk-text-repr-fallback {display: none;}</style><div id=\"sk-container-id-1\" class=\"sk-top-container\"><div class=\"sk-text-repr-fallback\"><pre>LinearRegression()</pre><b>In a Jupyter environment, please rerun this cell to show the HTML representation or trust the notebook. <br />On GitHub, the HTML representation is unable to render, please try loading this page with nbviewer.org.</b></div><div class=\"sk-container\" hidden><div class=\"sk-item\"><div class=\"sk-estimator sk-toggleable\"><input class=\"sk-toggleable__control sk-hidden--visually\" id=\"sk-estimator-id-1\" type=\"checkbox\" checked><label for=\"sk-estimator-id-1\" class=\"sk-toggleable__label sk-toggleable__label-arrow\">LinearRegression</label><div class=\"sk-toggleable__content\"><pre>LinearRegression()</pre></div></div></div></div></div>"
            ]
          },
          "metadata": {},
          "execution_count": 19
        }
      ]
    },
    {
      "cell_type": "code",
      "source": [
        "# Predict the target variable\n",
        "y_pred_reg = reg.predict(X_test)\n",
        "\n",
        "# Evaluate the performance\n",
        "reg_mse = mean_squared_error(y_test, y_pred_reg)\n",
        "print('Linear Regression Mean Squared Error: {:.2f}'.format(reg_mse))\n",
        "\n",
        "reg_rmse = np.sqrt(mean_squared_error(y_test, y_pred_reg))\n",
        "print('Random Forest Root Mean Squared Error: {:.2f}'.format(reg_rmse))\n"
      ],
      "metadata": {
        "id": "stblbXIVFL16",
        "colab": {
          "base_uri": "https://localhost:8080/"
        },
        "outputId": "f4c7fa46-5c9d-4464-bb5c-8d0fa7b34598"
      },
      "execution_count": 20,
      "outputs": [
        {
          "output_type": "stream",
          "name": "stdout",
          "text": [
            "Linear Regression Mean Squared Error: 79053591648912580051756620563087360.00\n",
            "Random Forest Root Mean Squared Error: 281164705553368800.00\n"
          ]
        }
      ]
    },
    {
      "cell_type": "markdown",
      "source": [
        "Regression Tree"
      ],
      "metadata": {
        "id": "Adi7klfhC5e3"
      }
    },
    {
      "cell_type": "code",
      "source": [
        "# Create Regression Tree object\n",
        "reg_tree = DecisionTreeRegressor()\n",
        "\n",
        "# Fit the model\n",
        "\n",
        "reg_tree.fit(X_train, y_train)"
      ],
      "metadata": {
        "id": "f_asMRZQLe4b",
        "colab": {
          "base_uri": "https://localhost:8080/",
          "height": 74
        },
        "outputId": "f0500b1b-13a2-4875-e186-e966ada26ae4"
      },
      "execution_count": 21,
      "outputs": [
        {
          "output_type": "execute_result",
          "data": {
            "text/plain": [
              "DecisionTreeRegressor()"
            ],
            "text/html": [
              "<style>#sk-container-id-2 {color: black;background-color: white;}#sk-container-id-2 pre{padding: 0;}#sk-container-id-2 div.sk-toggleable {background-color: white;}#sk-container-id-2 label.sk-toggleable__label {cursor: pointer;display: block;width: 100%;margin-bottom: 0;padding: 0.3em;box-sizing: border-box;text-align: center;}#sk-container-id-2 label.sk-toggleable__label-arrow:before {content: \"▸\";float: left;margin-right: 0.25em;color: #696969;}#sk-container-id-2 label.sk-toggleable__label-arrow:hover:before {color: black;}#sk-container-id-2 div.sk-estimator:hover label.sk-toggleable__label-arrow:before {color: black;}#sk-container-id-2 div.sk-toggleable__content {max-height: 0;max-width: 0;overflow: hidden;text-align: left;background-color: #f0f8ff;}#sk-container-id-2 div.sk-toggleable__content pre {margin: 0.2em;color: black;border-radius: 0.25em;background-color: #f0f8ff;}#sk-container-id-2 input.sk-toggleable__control:checked~div.sk-toggleable__content {max-height: 200px;max-width: 100%;overflow: auto;}#sk-container-id-2 input.sk-toggleable__control:checked~label.sk-toggleable__label-arrow:before {content: \"▾\";}#sk-container-id-2 div.sk-estimator input.sk-toggleable__control:checked~label.sk-toggleable__label {background-color: #d4ebff;}#sk-container-id-2 div.sk-label input.sk-toggleable__control:checked~label.sk-toggleable__label {background-color: #d4ebff;}#sk-container-id-2 input.sk-hidden--visually {border: 0;clip: rect(1px 1px 1px 1px);clip: rect(1px, 1px, 1px, 1px);height: 1px;margin: -1px;overflow: hidden;padding: 0;position: absolute;width: 1px;}#sk-container-id-2 div.sk-estimator {font-family: monospace;background-color: #f0f8ff;border: 1px dotted black;border-radius: 0.25em;box-sizing: border-box;margin-bottom: 0.5em;}#sk-container-id-2 div.sk-estimator:hover {background-color: #d4ebff;}#sk-container-id-2 div.sk-parallel-item::after {content: \"\";width: 100%;border-bottom: 1px solid gray;flex-grow: 1;}#sk-container-id-2 div.sk-label:hover label.sk-toggleable__label {background-color: #d4ebff;}#sk-container-id-2 div.sk-serial::before {content: \"\";position: absolute;border-left: 1px solid gray;box-sizing: border-box;top: 0;bottom: 0;left: 50%;z-index: 0;}#sk-container-id-2 div.sk-serial {display: flex;flex-direction: column;align-items: center;background-color: white;padding-right: 0.2em;padding-left: 0.2em;position: relative;}#sk-container-id-2 div.sk-item {position: relative;z-index: 1;}#sk-container-id-2 div.sk-parallel {display: flex;align-items: stretch;justify-content: center;background-color: white;position: relative;}#sk-container-id-2 div.sk-item::before, #sk-container-id-2 div.sk-parallel-item::before {content: \"\";position: absolute;border-left: 1px solid gray;box-sizing: border-box;top: 0;bottom: 0;left: 50%;z-index: -1;}#sk-container-id-2 div.sk-parallel-item {display: flex;flex-direction: column;z-index: 1;position: relative;background-color: white;}#sk-container-id-2 div.sk-parallel-item:first-child::after {align-self: flex-end;width: 50%;}#sk-container-id-2 div.sk-parallel-item:last-child::after {align-self: flex-start;width: 50%;}#sk-container-id-2 div.sk-parallel-item:only-child::after {width: 0;}#sk-container-id-2 div.sk-dashed-wrapped {border: 1px dashed gray;margin: 0 0.4em 0.5em 0.4em;box-sizing: border-box;padding-bottom: 0.4em;background-color: white;}#sk-container-id-2 div.sk-label label {font-family: monospace;font-weight: bold;display: inline-block;line-height: 1.2em;}#sk-container-id-2 div.sk-label-container {text-align: center;}#sk-container-id-2 div.sk-container {/* jupyter's `normalize.less` sets `[hidden] { display: none; }` but bootstrap.min.css set `[hidden] { display: none !important; }` so we also need the `!important` here to be able to override the default hidden behavior on the sphinx rendered scikit-learn.org. See: https://github.com/scikit-learn/scikit-learn/issues/21755 */display: inline-block !important;position: relative;}#sk-container-id-2 div.sk-text-repr-fallback {display: none;}</style><div id=\"sk-container-id-2\" class=\"sk-top-container\"><div class=\"sk-text-repr-fallback\"><pre>DecisionTreeRegressor()</pre><b>In a Jupyter environment, please rerun this cell to show the HTML representation or trust the notebook. <br />On GitHub, the HTML representation is unable to render, please try loading this page with nbviewer.org.</b></div><div class=\"sk-container\" hidden><div class=\"sk-item\"><div class=\"sk-estimator sk-toggleable\"><input class=\"sk-toggleable__control sk-hidden--visually\" id=\"sk-estimator-id-2\" type=\"checkbox\" checked><label for=\"sk-estimator-id-2\" class=\"sk-toggleable__label sk-toggleable__label-arrow\">DecisionTreeRegressor</label><div class=\"sk-toggleable__content\"><pre>DecisionTreeRegressor()</pre></div></div></div></div></div>"
            ]
          },
          "metadata": {},
          "execution_count": 21
        }
      ]
    },
    {
      "cell_type": "code",
      "source": [
        "# Predict the target variable\n",
        "y_pred_tree = reg_tree.predict(X_test)\n",
        "\n",
        "# Evaluate the performance\n",
        "tree_mse = mean_squared_error(y_test, y_pred_tree)\n",
        "print('Regression Tree Mean Squared Error: {:.2f}'.format(tree_mse))\n",
        "\n",
        "tree_rmse = np.sqrt(mean_squared_error(y_test, y_pred_tree))\n",
        "print('Random Forest Root Mean Squared Error: {:.2f}'.format(tree_rmse))\n"
      ],
      "metadata": {
        "colab": {
          "base_uri": "https://localhost:8080/"
        },
        "id": "L4p1IklkKswN",
        "outputId": "0b499d67-8c21-431e-c7ad-6e3e919eccaf"
      },
      "execution_count": 22,
      "outputs": [
        {
          "output_type": "stream",
          "name": "stdout",
          "text": [
            "Regression Tree Mean Squared Error: 2424.17\n",
            "Random Forest Root Mean Squared Error: 49.24\n"
          ]
        }
      ]
    },
    {
      "cell_type": "markdown",
      "source": [
        "Random Forest"
      ],
      "metadata": {
        "id": "1lk6zgPRC7sv"
      }
    },
    {
      "cell_type": "code",
      "source": [
        "# Create Random Forest object\n",
        "rand_forest = RandomForestRegressor(n_estimators=100)\n",
        "\n",
        "# Fit the model\n",
        "rand_forest.fit(X_train, y_train)"
      ],
      "metadata": {
        "id": "KTKC8v6VCjR9"
      },
      "execution_count": null,
      "outputs": []
    },
    {
      "cell_type": "code",
      "source": [
        "# Predict the target variable\n",
        "y_pred_forest = rand_forest.predict(X_test)\n",
        "\n",
        "# Evaluate the performance\n",
        "forest_mse = mean_squared_error(y_test, y_pred_forest)\n",
        "print('Random Forest Mean Squared Error: {:.2f}'.format(forest_mse))\n",
        "\n",
        "forest_rmse = np.sqrt(mean_squared_error(y_test, y_pred_forest))\n",
        "print('Random Forest Root Mean Squared Error: {:.2f}'.format(forest_rmse))\n"
      ],
      "metadata": {
        "id": "lwr8oRlWLwHr"
      },
      "execution_count": null,
      "outputs": []
    }
  ]
}